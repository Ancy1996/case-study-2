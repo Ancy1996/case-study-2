{
 "cells": [
  {
   "cell_type": "markdown",
   "id": "d1e75ab6",
   "metadata": {},
   "source": [
    "# Case Study on Measures of Central Tendency and Dispersion"
   ]
  },
  {
   "cell_type": "code",
   "execution_count": 88,
   "id": "713783ce",
   "metadata": {},
   "outputs": [
    {
     "data": {
      "text/html": [
       "<div>\n",
       "<style scoped>\n",
       "    .dataframe tbody tr th:only-of-type {\n",
       "        vertical-align: middle;\n",
       "    }\n",
       "\n",
       "    .dataframe tbody tr th {\n",
       "        vertical-align: top;\n",
       "    }\n",
       "\n",
       "    .dataframe thead th {\n",
       "        text-align: right;\n",
       "    }\n",
       "</style>\n",
       "<table border=\"1\" class=\"dataframe\">\n",
       "  <thead>\n",
       "    <tr style=\"text-align: right;\">\n",
       "      <th></th>\n",
       "      <th>gender</th>\n",
       "      <th>race/ethnicity</th>\n",
       "      <th>parental level of education</th>\n",
       "      <th>lunch</th>\n",
       "      <th>test preparation course</th>\n",
       "      <th>math score</th>\n",
       "      <th>reading score</th>\n",
       "      <th>writing score</th>\n",
       "    </tr>\n",
       "  </thead>\n",
       "  <tbody>\n",
       "    <tr>\n",
       "      <th>0</th>\n",
       "      <td>female</td>\n",
       "      <td>group C</td>\n",
       "      <td>some high school</td>\n",
       "      <td>free/reduced</td>\n",
       "      <td>none</td>\n",
       "      <td>0</td>\n",
       "      <td>17</td>\n",
       "      <td>10</td>\n",
       "    </tr>\n",
       "    <tr>\n",
       "      <th>1</th>\n",
       "      <td>female</td>\n",
       "      <td>group B</td>\n",
       "      <td>high school</td>\n",
       "      <td>free/reduced</td>\n",
       "      <td>none</td>\n",
       "      <td>8</td>\n",
       "      <td>24</td>\n",
       "      <td>23</td>\n",
       "    </tr>\n",
       "    <tr>\n",
       "      <th>2</th>\n",
       "      <td>female</td>\n",
       "      <td>group B</td>\n",
       "      <td>some high school</td>\n",
       "      <td>free/reduced</td>\n",
       "      <td>none</td>\n",
       "      <td>18</td>\n",
       "      <td>32</td>\n",
       "      <td>28</td>\n",
       "    </tr>\n",
       "    <tr>\n",
       "      <th>3</th>\n",
       "      <td>female</td>\n",
       "      <td>group B</td>\n",
       "      <td>some college</td>\n",
       "      <td>standard</td>\n",
       "      <td>none</td>\n",
       "      <td>11</td>\n",
       "      <td>38</td>\n",
       "      <td>32</td>\n",
       "    </tr>\n",
       "    <tr>\n",
       "      <th>4</th>\n",
       "      <td>female</td>\n",
       "      <td>group C</td>\n",
       "      <td>some college</td>\n",
       "      <td>free/reduced</td>\n",
       "      <td>none</td>\n",
       "      <td>22</td>\n",
       "      <td>39</td>\n",
       "      <td>33</td>\n",
       "    </tr>\n",
       "    <tr>\n",
       "      <th>...</th>\n",
       "      <td>...</td>\n",
       "      <td>...</td>\n",
       "      <td>...</td>\n",
       "      <td>...</td>\n",
       "      <td>...</td>\n",
       "      <td>...</td>\n",
       "      <td>...</td>\n",
       "      <td>...</td>\n",
       "    </tr>\n",
       "    <tr>\n",
       "      <th>995</th>\n",
       "      <td>male</td>\n",
       "      <td>group E</td>\n",
       "      <td>some college</td>\n",
       "      <td>standard</td>\n",
       "      <td>completed</td>\n",
       "      <td>99</td>\n",
       "      <td>87</td>\n",
       "      <td>81</td>\n",
       "    </tr>\n",
       "    <tr>\n",
       "      <th>996</th>\n",
       "      <td>male</td>\n",
       "      <td>group A</td>\n",
       "      <td>some college</td>\n",
       "      <td>standard</td>\n",
       "      <td>completed</td>\n",
       "      <td>100</td>\n",
       "      <td>96</td>\n",
       "      <td>86</td>\n",
       "    </tr>\n",
       "    <tr>\n",
       "      <th>997</th>\n",
       "      <td>male</td>\n",
       "      <td>group D</td>\n",
       "      <td>some college</td>\n",
       "      <td>standard</td>\n",
       "      <td>completed</td>\n",
       "      <td>100</td>\n",
       "      <td>97</td>\n",
       "      <td>99</td>\n",
       "    </tr>\n",
       "    <tr>\n",
       "      <th>998</th>\n",
       "      <td>male</td>\n",
       "      <td>group E</td>\n",
       "      <td>associate's degree</td>\n",
       "      <td>free/reduced</td>\n",
       "      <td>completed</td>\n",
       "      <td>100</td>\n",
       "      <td>100</td>\n",
       "      <td>93</td>\n",
       "    </tr>\n",
       "    <tr>\n",
       "      <th>999</th>\n",
       "      <td>male</td>\n",
       "      <td>group E</td>\n",
       "      <td>bachelor's degree</td>\n",
       "      <td>standard</td>\n",
       "      <td>completed</td>\n",
       "      <td>100</td>\n",
       "      <td>100</td>\n",
       "      <td>100</td>\n",
       "    </tr>\n",
       "  </tbody>\n",
       "</table>\n",
       "<p>1000 rows × 8 columns</p>\n",
       "</div>"
      ],
      "text/plain": [
       "     gender race/ethnicity parental level of education         lunch  \\\n",
       "0    female        group C            some high school  free/reduced   \n",
       "1    female        group B                 high school  free/reduced   \n",
       "2    female        group B            some high school  free/reduced   \n",
       "3    female        group B                some college      standard   \n",
       "4    female        group C                some college  free/reduced   \n",
       "..      ...            ...                         ...           ...   \n",
       "995    male        group E                some college      standard   \n",
       "996    male        group A                some college      standard   \n",
       "997    male        group D                some college      standard   \n",
       "998    male        group E          associate's degree  free/reduced   \n",
       "999    male        group E           bachelor's degree      standard   \n",
       "\n",
       "    test preparation course  math score  reading score  writing score  \n",
       "0                      none           0             17             10  \n",
       "1                      none           8             24             23  \n",
       "2                      none          18             32             28  \n",
       "3                      none          11             38             32  \n",
       "4                      none          22             39             33  \n",
       "..                      ...         ...            ...            ...  \n",
       "995               completed          99             87             81  \n",
       "996               completed         100             96             86  \n",
       "997               completed         100             97             99  \n",
       "998               completed         100            100             93  \n",
       "999               completed         100            100            100  \n",
       "\n",
       "[1000 rows x 8 columns]"
      ]
     },
     "execution_count": 88,
     "metadata": {},
     "output_type": "execute_result"
    }
   ],
   "source": [
    "import pandas as pd\n",
    "a=pd.read_csv(r'C:\\Users\\ANJU SAJI\\Desktop\\Ancy\\ANCY DSA\\StudentsPerformance.csv')\n",
    "a"
   ]
  },
  {
   "cell_type": "code",
   "execution_count": 89,
   "id": "1063ef4c",
   "metadata": {},
   "outputs": [
    {
     "name": "stdout",
     "output_type": "stream",
     "text": [
      "The number of males participated in the list is 482\n",
      "The number of females participated in the list is 518\n"
     ]
    }
   ],
   "source": [
    "##1.To find how many males and females participated in the test.\n",
    "\n",
    "count_male=a['gender']==\"male\"\n",
    "print('The number of males participated in the list is',count_male.sum())\n",
    "count_female=a['gender']==\"female\"\n",
    "print('The number of females participated in the list is',count_female.sum())\n"
   ]
  },
  {
   "cell_type": "code",
   "execution_count": 38,
   "id": "3e65514c",
   "metadata": {},
   "outputs": [
    {
     "name": "stdout",
     "output_type": "stream",
     "text": [
      "The number of  of parents are in some college list 226\n",
      "The number of  of parents have associates degree is 222\n"
     ]
    },
    {
     "data": {
      "image/png": "[encoded data removed]",
      "text/plain": [
       "<Figure size 432x288 with 1 Axes>"
      ]
     },
     "metadata": {
      "needs_background": "light"
     },
     "output_type": "display_data"
    }
   ],
   "source": [
    "## 2. What do you think about the students' parental level of education?\n",
    "\n",
    "\n",
    "# using bar chart \n",
    "\n",
    "import matplotlib.pyplot as plt\n",
    "a['parental level of education'].value_counts().plot(kind='bar')\n",
    "\n",
    "\n",
    "# To find the number of parents are in some college list and associate degree\n",
    "\n",
    "count_some_college=a['parental level of education']==\"some college\"\n",
    "print('The number of  of parents are in some college list',count_some_college.sum())\n",
    "\n",
    "count_associate_degree=a['parental level of education']==\"associate's degree\"\n",
    "print('The number of  of parents have associates degree is',count_associate_degree.sum())\n",
    "\n"
   ]
  },
  {
   "cell_type": "markdown",
   "id": "bc193ccf",
   "metadata": {},
   "source": [
    "From the above 2 analysis we can conclude that majority(226) parents are in educated from some colleges and least parents only have master's degree."
   ]
  },
  {
   "cell_type": "code",
   "execution_count": 69,
   "id": "fa1310f8",
   "metadata": {},
   "outputs": [
    {
     "name": "stdout",
     "output_type": "stream",
     "text": [
      "gender\n",
      "female    63.376448\n",
      "male      68.821577\n",
      "Name: math score, dtype: float64\n",
      "gender\n",
      "female    72.590734\n",
      "male      65.545643\n",
      "Name: reading score, dtype: float64\n",
      "gender\n",
      "female    72.467181\n",
      "male      63.446058\n",
      "Name: writing score, dtype: float64\n"
     ]
    }
   ],
   "source": [
    "## 3. Who scores the most on average for math, reading and writing based on ● Gender  ● Test preparation course\n",
    "\n",
    "## based on gender\n",
    "\n",
    "\n",
    "b=a.groupby('gender')['math score'].mean()\n",
    "print(b)\n",
    "c=a.groupby('gender')['reading score'].mean()\n",
    "print(c)\n",
    "d=a.groupby('gender')['writing score'].mean()\n",
    "print(d)\n"
   ]
  },
  {
   "cell_type": "markdown",
   "id": "42efa841",
   "metadata": {},
   "source": [
    "From  the above analysis based on gender male got most average for math, female got most average for reading and again female got most average for writing.   "
   ]
  },
  {
   "cell_type": "code",
   "execution_count": 73,
   "id": "336d543e",
   "metadata": {},
   "outputs": [
    {
     "name": "stdout",
     "output_type": "stream",
     "text": [
      "test preparation course\n",
      "completed    69.96648\n",
      "none         63.78972\n",
      "Name: math score, dtype: float64\n",
      "test preparation course\n",
      "completed    74.175978\n",
      "none         66.417445\n",
      "Name: reading score, dtype: float64\n",
      "test preparation course\n",
      "completed    74.684358\n",
      "none         64.457944\n",
      "Name: writing score, dtype: float64\n"
     ]
    }
   ],
   "source": [
    "## based on Test preparation course\n",
    "\n",
    "e=a.groupby('test preparation course')['math score'].mean()\n",
    "print(e)\n",
    "f=a.groupby('test preparation course')['reading score'].mean()\n",
    "print(f)\n",
    "g=a.groupby('test preparation course')['writing score'].mean()\n",
    "print(g)"
   ]
  },
  {
   "cell_type": "markdown",
   "id": "6cf85109",
   "metadata": {},
   "source": [
    "From  the above analysis based on test preparation course completed  got most average for math,reading and  writing. "
   ]
  },
  {
   "cell_type": "code",
   "execution_count": 74,
   "id": "90b419fb",
   "metadata": {},
   "outputs": [
    {
     "name": "stdout",
     "output_type": "stream",
     "text": [
      "gender\n",
      "female    32829\n",
      "male      33172\n",
      "Name: math score, dtype: int64\n",
      "gender\n",
      "female    37602\n",
      "male      31593\n",
      "Name: reading score, dtype: int64\n",
      "gender\n",
      "female    37538\n",
      "male      30581\n",
      "Name: writing score, dtype: int64\n"
     ]
    }
   ],
   "source": [
    "## 4. What do you think about the scoring variation for math, reading and writing based on ● Gender ● Test preparation course\n",
    "\n",
    "## based on gender\n",
    "\n",
    "\n",
    "h=a.groupby('gender')['math score'].sum()\n",
    "print(h)\n",
    "i=a.groupby('gender')['reading score'].sum()\n",
    "print(i)\n",
    "j=a.groupby('gender')['writing score'].sum()\n",
    "\n",
    "\n"
   ]
  },
  {
   "cell_type": "code",
   "execution_count": 76,
   "id": "96ead699",
   "metadata": {},
   "outputs": [
    {
     "name": "stdout",
     "output_type": "stream",
     "text": [
      "test preparation course\n",
      "completed    25048\n",
      "none         40953\n",
      "Name: math score, dtype: int64\n",
      "test preparation course\n",
      "completed    26555\n",
      "none         42640\n",
      "Name: reading score, dtype: int64\n",
      "test preparation course\n",
      "completed    26737\n",
      "none         41382\n",
      "Name: writing score, dtype: int64\n"
     ]
    }
   ],
   "source": [
    "## based on Test preparation course\n",
    "\n",
    "\n",
    "k=a.groupby('test preparation course')['math score'].sum()\n",
    "print(k)\n",
    "l=a.groupby('test preparation course')['reading score'].sum()\n",
    "print(l)\n",
    "m=a.groupby('test preparation course')['writing score'].sum()\n",
    "print(m)"
   ]
  },
  {
   "cell_type": "code",
   "execution_count": 87,
   "id": "be2a91c2",
   "metadata": {},
   "outputs": [
    {
     "name": "stdout",
     "output_type": "stream",
     "text": [
      "0      False\n",
      "1      False\n",
      "2      False\n",
      "3      False\n",
      "4      False\n",
      "       ...  \n",
      "995     True\n",
      "996     True\n",
      "997     True\n",
      "998     True\n",
      "999     True\n",
      "Name: math score, Length: 1000, dtype: bool\n"
     ]
    }
   ],
   "source": [
    "## 5. The management needs your help to give bonus points to the top 25% of students based on their maths score, so how will you help the management to achieve this.\n",
    "\n",
    "n=(a['math score']>25)\n",
    "print(n)"
   ]
  }
 ],
 "metadata": {
  "kernelspec": {
   "display_name": "Python 3 (ipykernel)",
   "language": "python",
   "name": "python3"
  },
  "language_info": {
   "codemirror_mode": {
    "name": "ipython",
    "version": 3
   },
   "file_extension": ".py",
   "mimetype": "text/x-python",
   "name": "python",
   "nbconvert_exporter": "python",
   "pygments_lexer": "ipython3",
   "version": "3.9.7"
  }
 },
 "nbformat": 4,
 "nbformat_minor": 5
}
